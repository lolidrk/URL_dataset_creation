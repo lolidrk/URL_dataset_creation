{
 "cells": [
  {
   "cell_type": "code",
   "execution_count": 27,
   "metadata": {},
   "outputs": [],
   "source": [
    "import pandas as pd\n",
    "import numpy as np\n",
    "from tensorflow.keras.models import Sequential\n",
    "from tensorflow.keras.layers import Embedding, LSTM, Dense\n",
    "from tensorflow.keras.preprocessing.text import Tokenizer\n",
    "from tensorflow.keras.preprocessing.sequence import pad_sequences\n",
    "from sklearn.model_selection import train_test_split\n",
    "from tensorflow.keras.callbacks import EarlyStopping"
   ]
  },
  {
   "cell_type": "code",
   "execution_count": 28,
   "metadata": {},
   "outputs": [],
   "source": [
    "combined_df = pd.read_csv('combined_dataset.csv')"
   ]
  },
  {
   "cell_type": "code",
   "execution_count": 29,
   "metadata": {},
   "outputs": [],
   "source": [
    "tokenizer = Tokenizer()\n",
    "tokenizer.fit_on_texts(combined_df['URL'])\n",
    "X = tokenizer.texts_to_sequences(combined_df['URL'])\n",
    "X = pad_sequences(X)"
   ]
  },
  {
   "cell_type": "code",
   "execution_count": 30,
   "metadata": {},
   "outputs": [
    {
     "data": {
      "text/plain": [
       "array([[    0,     0,     0, ...,  1491,    12,  1236],\n",
       "       [    0,     0,     0, ...,    15,    12,   649],\n",
       "       [    0,     0,     0, ...,  2205,  2205,    31],\n",
       "       ...,\n",
       "       [    0,     0,     0, ...,   286,    12,   144],\n",
       "       [    0,     0,     0, ..., 18356, 30623, 78520],\n",
       "       [    0,     0,     0, ..., 22896,    48,  5603]], dtype=int32)"
      ]
     },
     "execution_count": 30,
     "metadata": {},
     "output_type": "execute_result"
    }
   ],
   "source": [
    "X"
   ]
  },
  {
   "cell_type": "code",
   "execution_count": 31,
   "metadata": {},
   "outputs": [],
   "source": [
    "y = (combined_df['Type'] == 'Malicious').astype(int)"
   ]
  },
  {
   "cell_type": "code",
   "execution_count": 32,
   "metadata": {},
   "outputs": [],
   "source": [
    "X_train, X_temp, y_train, y_temp = train_test_split(X, y, test_size=0.3, random_state=27)\n",
    "X_val, X_test, y_val, y_test = train_test_split(X_temp, y_temp, test_size=0.5, random_state=27)"
   ]
  },
  {
   "cell_type": "code",
   "execution_count": 33,
   "metadata": {},
   "outputs": [],
   "source": [
    "model = Sequential()\n",
    "model.add(Embedding(input_dim=len(tokenizer.word_index)+1, output_dim=64, input_length=X.shape[1]))\n",
    "model.add(LSTM(128))\n",
    "model.add(Dense(1, activation='sigmoid'))"
   ]
  },
  {
   "cell_type": "code",
   "execution_count": 34,
   "metadata": {},
   "outputs": [],
   "source": [
    "model.compile(loss='binary_crossentropy', optimizer='adam', metrics=['accuracy'])"
   ]
  },
  {
   "cell_type": "code",
   "execution_count": 35,
   "metadata": {},
   "outputs": [],
   "source": [
    "early_stopping = EarlyStopping(monitor='val_loss', patience=3, restore_best_weights=True)"
   ]
  },
  {
   "cell_type": "code",
   "execution_count": 36,
   "metadata": {},
   "outputs": [
    {
     "name": "stdout",
     "output_type": "stream",
     "text": [
      "Epoch 1/100\n",
      "774/774 [==============================] - 636s 816ms/step - loss: 0.0553 - accuracy: 0.9815 - val_loss: 0.1214 - val_accuracy: 0.9703\n",
      "Epoch 2/100\n",
      "774/774 [==============================] - 813s 1s/step - loss: 0.0063 - accuracy: 0.9991 - val_loss: 0.0033 - val_accuracy: 0.9991\n",
      "Epoch 3/100\n",
      "774/774 [==============================] - 695s 899ms/step - loss: 8.8104e-05 - accuracy: 1.0000 - val_loss: 0.0028 - val_accuracy: 0.9992\n",
      "Epoch 4/100\n",
      "774/774 [==============================] - 796s 1s/step - loss: 3.0593e-05 - accuracy: 1.0000 - val_loss: 0.0024 - val_accuracy: 0.9994\n",
      "Epoch 5/100\n",
      "774/774 [==============================] - 655s 846ms/step - loss: 1.5814e-05 - accuracy: 1.0000 - val_loss: 0.0023 - val_accuracy: 0.9995\n",
      "Epoch 6/100\n",
      "774/774 [==============================] - 641s 828ms/step - loss: 9.2258e-06 - accuracy: 1.0000 - val_loss: 0.0022 - val_accuracy: 0.9995\n",
      "Epoch 7/100\n",
      "774/774 [==============================] - 616s 796ms/step - loss: 5.6779e-06 - accuracy: 1.0000 - val_loss: 0.0025 - val_accuracy: 0.9993\n",
      "Epoch 8/100\n",
      "774/774 [==============================] - 611s 789ms/step - loss: 3.5570e-06 - accuracy: 1.0000 - val_loss: 0.0024 - val_accuracy: 0.9993\n",
      "Epoch 9/100\n",
      "774/774 [==============================] - 632s 817ms/step - loss: 0.0031 - accuracy: 0.9995 - val_loss: 0.0117 - val_accuracy: 0.9968\n"
     ]
    },
    {
     "data": {
      "text/plain": [
       "<keras.src.callbacks.History at 0x7ff8dc618d90>"
      ]
     },
     "execution_count": 36,
     "metadata": {},
     "output_type": "execute_result"
    }
   ],
   "source": [
    "model.fit(X_train, y_train, epochs=100, batch_size=64, validation_data=(X_val, y_val), callbacks=[early_stopping])\n"
   ]
  },
  {
   "cell_type": "code",
   "execution_count": 37,
   "metadata": {},
   "outputs": [
    {
     "name": "stdout",
     "output_type": "stream",
     "text": [
      "332/332 [==============================] - 71s 213ms/step - loss: 4.1198e-04 - accuracy: 0.9997\n",
      "Test loss: 0.00041197522659786046\n",
      "Test accuracy: 0.9997173547744751\n"
     ]
    }
   ],
   "source": [
    "loss, accuracy = model.evaluate(X_test, y_test)\n",
    "print(f'Test loss: {loss}')\n",
    "print(f'Test accuracy: {accuracy}')"
   ]
  },
  {
   "cell_type": "code",
   "execution_count": 38,
   "metadata": {},
   "outputs": [],
   "source": [
    "#model.save('raw_url_model.h5') "
   ]
  },
  {
   "cell_type": "code",
   "execution_count": null,
   "metadata": {},
   "outputs": [],
   "source": []
  }
 ],
 "metadata": {
  "kernelspec": {
   "display_name": "Python 3",
   "language": "python",
   "name": "python3"
  },
  "language_info": {
   "codemirror_mode": {
    "name": "ipython",
    "version": 3
   },
   "file_extension": ".py",
   "mimetype": "text/x-python",
   "name": "python",
   "nbconvert_exporter": "python",
   "pygments_lexer": "ipython3",
   "version": "3.10.12"
  }
 },
 "nbformat": 4,
 "nbformat_minor": 2
}
